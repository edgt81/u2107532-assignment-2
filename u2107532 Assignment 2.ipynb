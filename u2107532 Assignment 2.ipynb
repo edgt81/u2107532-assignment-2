{
 "cells": [
  {
   "cell_type": "code",
   "execution_count": 3,
   "id": "0132407e",
   "metadata": {},
   "outputs": [],
   "source": [
    "import numpy as np"
   ]
  },
  {
   "cell_type": "code",
   "execution_count": 6,
   "id": "bc09e9d0",
   "metadata": {},
   "outputs": [],
   "source": [
    "\n",
    "def strategy(M,turn,n):\n",
    "    \n",
    "    \n",
    "    \n",
    "    if turn==n*n: #To stop the game when need and assign the winner\n",
    "        print()\n",
    "        if np.linalg.det(M)==0:\n",
    "            print('0 wins')\n",
    "        if np.linalg.det(M)!=0:\n",
    "            print('1 wins')\n",
    "    elif turn == 0 or turn%2==0:# determine who's go it is\n",
    "        r = int(input('What row would you like to go?'))\n",
    "        c = int(input('What column would you like to go?'))\n",
    "        M[r-1][c-1]=0 #Place a 0 in the nessesary place\n",
    "        turn=turn+1\n",
    "        print(M)\n",
    "        strategy(M,turn,n) #Progress the game to the next turn\n",
    "    else:\n",
    "        r = int(input('What row would you like to go?'))\n",
    "        c = int(input('What column would you like to go?'))\n",
    "        M[r-1][c-1]=1\n",
    "        turn=turn+1\n",
    "        print(M)\n",
    "        strategy(M,turn,n)\n",
    "\n",
    "    "
   ]
  },
  {
   "cell_type": "code",
   "execution_count": 7,
   "id": "c32ad4a8",
   "metadata": {},
   "outputs": [
    {
     "name": "stdout",
     "output_type": "stream",
     "text": [
      "What row would you like to go?1\n",
      "What column would you like to go?1\n",
      "[[0.00000000e+000 5.00000000e+000]\n",
      " [2.03541648e+236 2.43400036e+159]]\n",
      "What row would you like to go?1\n",
      "What column would you like to go?2\n",
      "[[0.00000000e+000 1.00000000e+000]\n",
      " [2.03541648e+236 2.43400036e+159]]\n",
      "What row would you like to go?2\n",
      "What column would you like to go?1\n",
      "[[0.00000000e+000 1.00000000e+000]\n",
      " [0.00000000e+000 2.43400036e+159]]\n",
      "What row would you like to go?2\n",
      "What column would you like to go?2\n",
      "[[0. 1.]\n",
      " [0. 1.]]\n",
      "\n",
      "0 wins\n"
     ]
    }
   ],
   "source": [
    "M=np.empty([2,2])+5 # Generate the starting matrix, 5 is added it differentiate between elements chosen and not chosen.\n",
    "strategy(M,0,2) #M and n msut be changed depending on the size of the grid"
   ]
  }
 ],
 "metadata": {
  "kernelspec": {
   "display_name": "Python 3 (ipykernel)",
   "language": "python",
   "name": "python3"
  },
  "language_info": {
   "codemirror_mode": {
    "name": "ipython",
    "version": 3
   },
   "file_extension": ".py",
   "mimetype": "text/x-python",
   "name": "python",
   "nbconvert_exporter": "python",
   "pygments_lexer": "ipython3",
   "version": "3.9.7"
  }
 },
 "nbformat": 4,
 "nbformat_minor": 5
}
